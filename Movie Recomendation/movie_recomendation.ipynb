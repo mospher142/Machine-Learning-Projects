{
 "cells": [
  {
   "cell_type": "markdown",
   "id": "3d96a17e-140d-494a-be29-d9ea1dcccfd6",
   "metadata": {
    "tags": []
   },
   "source": [
    "# Recomendation System"
   ]
  },
  {
   "cell_type": "code",
   "execution_count": 351,
   "id": "4026200e-4c0d-42eb-a57b-525ec34d7d0b",
   "metadata": {
    "tags": []
   },
   "outputs": [],
   "source": [
    "import pandas as pd"
   ]
  },
  {
   "cell_type": "markdown",
   "id": "d4f5c7ba-0270-4196-a661-22c2cc54eae7",
   "metadata": {},
   "source": [
    "## Import Datasets"
   ]
  },
  {
   "cell_type": "code",
   "execution_count": 352,
   "id": "d1d59f46-6db2-40b9-9b8b-11322898ff53",
   "metadata": {
    "tags": []
   },
   "outputs": [],
   "source": [
    "def import_csv(csv):\n",
    "    return pd.read_csv(csv)\n",
    "\n",
    "df_movies = import_csv(\"movies.csv\")\n",
    "df_raking = import_csv(\"ratings.csv\")"
   ]
  },
  {
   "cell_type": "markdown",
   "id": "3155a367-6ce9-47d7-8cff-19f0b1c93b60",
   "metadata": {},
   "source": [
    "We need the movies and the ratings to build the recomendation"
   ]
  },
  {
   "cell_type": "markdown",
   "id": "f2270fec-6d68-4ee8-a7fa-dcd623cc33bd",
   "metadata": {},
   "source": [
    "## Clean datasets"
   ]
  },
  {
   "cell_type": "code",
   "execution_count": 353,
   "id": "ccdba6fa-911a-4958-bce6-693d45e6fc01",
   "metadata": {
    "tags": []
   },
   "outputs": [],
   "source": [
    "# to build the search engine we will use\n",
    "import re # python regular expression library"
   ]
  },
  {
   "cell_type": "code",
   "execution_count": 354,
   "id": "5e02ae39-64ba-4bba-ad23-9f1046004308",
   "metadata": {
    "tags": []
   },
   "outputs": [],
   "source": [
    "# this will filter values that contains only contains a-zA-Z0-9\n",
    "def clean_title(title):\n",
    "    return re.sub(\"[^a-zA-Z0-9 ]\", \"\", title)"
   ]
  },
  {
   "cell_type": "code",
   "execution_count": 355,
   "id": "035946db-567c-4fa5-8be7-79dbf15a0428",
   "metadata": {
    "tags": []
   },
   "outputs": [],
   "source": [
    "df_movies[\"title\"] = df_movies[\"title\"].apply(clean_title)"
   ]
  },
  {
   "cell_type": "code",
   "execution_count": 356,
   "id": "21ba3e03-3787-4750-ac10-875d412d298c",
   "metadata": {
    "tags": []
   },
   "outputs": [
    {
     "data": {
      "text/html": [
       "<div>\n",
       "<style scoped>\n",
       "    .dataframe tbody tr th:only-of-type {\n",
       "        vertical-align: middle;\n",
       "    }\n",
       "\n",
       "    .dataframe tbody tr th {\n",
       "        vertical-align: top;\n",
       "    }\n",
       "\n",
       "    .dataframe thead th {\n",
       "        text-align: right;\n",
       "    }\n",
       "</style>\n",
       "<table border=\"1\" class=\"dataframe\">\n",
       "  <thead>\n",
       "    <tr style=\"text-align: right;\">\n",
       "      <th></th>\n",
       "      <th>movieId</th>\n",
       "      <th>title</th>\n",
       "      <th>genres</th>\n",
       "    </tr>\n",
       "  </thead>\n",
       "  <tbody>\n",
       "    <tr>\n",
       "      <th>0</th>\n",
       "      <td>1</td>\n",
       "      <td>Toy Story 1995</td>\n",
       "      <td>Adventure|Animation|Children|Comedy|Fantasy</td>\n",
       "    </tr>\n",
       "    <tr>\n",
       "      <th>1</th>\n",
       "      <td>2</td>\n",
       "      <td>Jumanji 1995</td>\n",
       "      <td>Adventure|Children|Fantasy</td>\n",
       "    </tr>\n",
       "    <tr>\n",
       "      <th>2</th>\n",
       "      <td>3</td>\n",
       "      <td>Grumpier Old Men 1995</td>\n",
       "      <td>Comedy|Romance</td>\n",
       "    </tr>\n",
       "    <tr>\n",
       "      <th>3</th>\n",
       "      <td>4</td>\n",
       "      <td>Waiting to Exhale 1995</td>\n",
       "      <td>Comedy|Drama|Romance</td>\n",
       "    </tr>\n",
       "    <tr>\n",
       "      <th>4</th>\n",
       "      <td>5</td>\n",
       "      <td>Father of the Bride Part II 1995</td>\n",
       "      <td>Comedy</td>\n",
       "    </tr>\n",
       "    <tr>\n",
       "      <th>...</th>\n",
       "      <td>...</td>\n",
       "      <td>...</td>\n",
       "      <td>...</td>\n",
       "    </tr>\n",
       "    <tr>\n",
       "      <th>62418</th>\n",
       "      <td>209157</td>\n",
       "      <td>We 2018</td>\n",
       "      <td>Drama</td>\n",
       "    </tr>\n",
       "    <tr>\n",
       "      <th>62419</th>\n",
       "      <td>209159</td>\n",
       "      <td>Window of the Soul 2001</td>\n",
       "      <td>Documentary</td>\n",
       "    </tr>\n",
       "    <tr>\n",
       "      <th>62420</th>\n",
       "      <td>209163</td>\n",
       "      <td>Bad Poems 2018</td>\n",
       "      <td>Comedy|Drama</td>\n",
       "    </tr>\n",
       "    <tr>\n",
       "      <th>62421</th>\n",
       "      <td>209169</td>\n",
       "      <td>A Girl Thing 2001</td>\n",
       "      <td>(no genres listed)</td>\n",
       "    </tr>\n",
       "    <tr>\n",
       "      <th>62422</th>\n",
       "      <td>209171</td>\n",
       "      <td>Women of Devils Island 1962</td>\n",
       "      <td>Action|Adventure|Drama</td>\n",
       "    </tr>\n",
       "  </tbody>\n",
       "</table>\n",
       "<p>62423 rows × 3 columns</p>\n",
       "</div>"
      ],
      "text/plain": [
       "       movieId                             title  \\\n",
       "0            1                    Toy Story 1995   \n",
       "1            2                      Jumanji 1995   \n",
       "2            3             Grumpier Old Men 1995   \n",
       "3            4            Waiting to Exhale 1995   \n",
       "4            5  Father of the Bride Part II 1995   \n",
       "...        ...                               ...   \n",
       "62418   209157                           We 2018   \n",
       "62419   209159           Window of the Soul 2001   \n",
       "62420   209163                    Bad Poems 2018   \n",
       "62421   209169                 A Girl Thing 2001   \n",
       "62422   209171       Women of Devils Island 1962   \n",
       "\n",
       "                                            genres  \n",
       "0      Adventure|Animation|Children|Comedy|Fantasy  \n",
       "1                       Adventure|Children|Fantasy  \n",
       "2                                   Comedy|Romance  \n",
       "3                             Comedy|Drama|Romance  \n",
       "4                                           Comedy  \n",
       "...                                            ...  \n",
       "62418                                        Drama  \n",
       "62419                                  Documentary  \n",
       "62420                                 Comedy|Drama  \n",
       "62421                           (no genres listed)  \n",
       "62422                       Action|Adventure|Drama  \n",
       "\n",
       "[62423 rows x 3 columns]"
      ]
     },
     "execution_count": 356,
     "metadata": {},
     "output_type": "execute_result"
    }
   ],
   "source": [
    "df_movies"
   ]
  },
  {
   "cell_type": "code",
   "execution_count": 357,
   "id": "d617ce46-d3f2-4b6a-950a-c5ecb94a5b81",
   "metadata": {
    "tags": []
   },
   "outputs": [],
   "source": [
    "df_movies[\"year\"] = df_movies[\"title\"].str.extract(r'(\\d{4})$')"
   ]
  },
  {
   "cell_type": "code",
   "execution_count": 358,
   "id": "04904baa-5a8e-4d98-850c-78ee293921ff",
   "metadata": {
    "tags": []
   },
   "outputs": [
    {
     "name": "stderr",
     "output_type": "stream",
     "text": [
      "C:\\Users\\pedro\\AppData\\Local\\Temp\\ipykernel_11108\\1070666096.py:1: FutureWarning: The default value of regex will change from True to False in a future version.\n",
      "  df_movies[\"title\"] = df_movies[\"title\"].str.replace(r'(\\d{4})$', \"\").str.strip()\n"
     ]
    }
   ],
   "source": [
    "df_movies[\"title\"] = df_movies[\"title\"].str.replace(r'(\\d{4})$', \"\").str.strip()"
   ]
  },
  {
   "cell_type": "code",
   "execution_count": 359,
   "id": "cf2a84e0-8569-4639-9455-4645caf11732",
   "metadata": {
    "tags": []
   },
   "outputs": [
    {
     "data": {
      "text/html": [
       "<div>\n",
       "<style scoped>\n",
       "    .dataframe tbody tr th:only-of-type {\n",
       "        vertical-align: middle;\n",
       "    }\n",
       "\n",
       "    .dataframe tbody tr th {\n",
       "        vertical-align: top;\n",
       "    }\n",
       "\n",
       "    .dataframe thead th {\n",
       "        text-align: right;\n",
       "    }\n",
       "</style>\n",
       "<table border=\"1\" class=\"dataframe\">\n",
       "  <thead>\n",
       "    <tr style=\"text-align: right;\">\n",
       "      <th></th>\n",
       "      <th>movieId</th>\n",
       "      <th>title</th>\n",
       "      <th>genres</th>\n",
       "      <th>year</th>\n",
       "    </tr>\n",
       "  </thead>\n",
       "  <tbody>\n",
       "    <tr>\n",
       "      <th>0</th>\n",
       "      <td>1</td>\n",
       "      <td>Toy Story</td>\n",
       "      <td>Adventure|Animation|Children|Comedy|Fantasy</td>\n",
       "      <td>1995</td>\n",
       "    </tr>\n",
       "    <tr>\n",
       "      <th>1</th>\n",
       "      <td>2</td>\n",
       "      <td>Jumanji</td>\n",
       "      <td>Adventure|Children|Fantasy</td>\n",
       "      <td>1995</td>\n",
       "    </tr>\n",
       "    <tr>\n",
       "      <th>2</th>\n",
       "      <td>3</td>\n",
       "      <td>Grumpier Old Men</td>\n",
       "      <td>Comedy|Romance</td>\n",
       "      <td>1995</td>\n",
       "    </tr>\n",
       "    <tr>\n",
       "      <th>3</th>\n",
       "      <td>4</td>\n",
       "      <td>Waiting to Exhale</td>\n",
       "      <td>Comedy|Drama|Romance</td>\n",
       "      <td>1995</td>\n",
       "    </tr>\n",
       "    <tr>\n",
       "      <th>4</th>\n",
       "      <td>5</td>\n",
       "      <td>Father of the Bride Part II</td>\n",
       "      <td>Comedy</td>\n",
       "      <td>1995</td>\n",
       "    </tr>\n",
       "    <tr>\n",
       "      <th>...</th>\n",
       "      <td>...</td>\n",
       "      <td>...</td>\n",
       "      <td>...</td>\n",
       "      <td>...</td>\n",
       "    </tr>\n",
       "    <tr>\n",
       "      <th>62418</th>\n",
       "      <td>209157</td>\n",
       "      <td>We</td>\n",
       "      <td>Drama</td>\n",
       "      <td>2018</td>\n",
       "    </tr>\n",
       "    <tr>\n",
       "      <th>62419</th>\n",
       "      <td>209159</td>\n",
       "      <td>Window of the Soul</td>\n",
       "      <td>Documentary</td>\n",
       "      <td>2001</td>\n",
       "    </tr>\n",
       "    <tr>\n",
       "      <th>62420</th>\n",
       "      <td>209163</td>\n",
       "      <td>Bad Poems</td>\n",
       "      <td>Comedy|Drama</td>\n",
       "      <td>2018</td>\n",
       "    </tr>\n",
       "    <tr>\n",
       "      <th>62421</th>\n",
       "      <td>209169</td>\n",
       "      <td>A Girl Thing</td>\n",
       "      <td>(no genres listed)</td>\n",
       "      <td>2001</td>\n",
       "    </tr>\n",
       "    <tr>\n",
       "      <th>62422</th>\n",
       "      <td>209171</td>\n",
       "      <td>Women of Devils Island</td>\n",
       "      <td>Action|Adventure|Drama</td>\n",
       "      <td>1962</td>\n",
       "    </tr>\n",
       "  </tbody>\n",
       "</table>\n",
       "<p>62423 rows × 4 columns</p>\n",
       "</div>"
      ],
      "text/plain": [
       "       movieId                        title  \\\n",
       "0            1                    Toy Story   \n",
       "1            2                      Jumanji   \n",
       "2            3             Grumpier Old Men   \n",
       "3            4            Waiting to Exhale   \n",
       "4            5  Father of the Bride Part II   \n",
       "...        ...                          ...   \n",
       "62418   209157                           We   \n",
       "62419   209159           Window of the Soul   \n",
       "62420   209163                    Bad Poems   \n",
       "62421   209169                 A Girl Thing   \n",
       "62422   209171       Women of Devils Island   \n",
       "\n",
       "                                            genres  year  \n",
       "0      Adventure|Animation|Children|Comedy|Fantasy  1995  \n",
       "1                       Adventure|Children|Fantasy  1995  \n",
       "2                                   Comedy|Romance  1995  \n",
       "3                             Comedy|Drama|Romance  1995  \n",
       "4                                           Comedy  1995  \n",
       "...                                            ...   ...  \n",
       "62418                                        Drama  2018  \n",
       "62419                                  Documentary  2001  \n",
       "62420                                 Comedy|Drama  2018  \n",
       "62421                           (no genres listed)  2001  \n",
       "62422                       Action|Adventure|Drama  1962  \n",
       "\n",
       "[62423 rows x 4 columns]"
      ]
     },
     "execution_count": 359,
     "metadata": {},
     "output_type": "execute_result"
    }
   ],
   "source": [
    "df_movies"
   ]
  },
  {
   "cell_type": "markdown",
   "id": "ec0fd0a6-eaa5-4f44-b621-ccab18699130",
   "metadata": {},
   "source": [
    "## TDIDF"
   ]
  },
  {
   "cell_type": "markdown",
   "id": "8c8cf80e-8d70-4758-82fb-e8e4f7c68a95",
   "metadata": {},
   "source": [
    "- TD (Term Frequency)\n",
    "- IDF (Inverse Document Frequency)"
   ]
  },
  {
   "cell_type": "code",
   "execution_count": 360,
   "id": "c3a3b691-b0d7-4765-a5f7-1bd3b13f06ed",
   "metadata": {
    "tags": []
   },
   "outputs": [],
   "source": [
    "from sklearn.feature_extraction.text import TfidfVectorizer"
   ]
  },
  {
   "cell_type": "code",
   "execution_count": 361,
   "id": "2a02d52a-a7ef-4335-8421-1bd642fc6fe4",
   "metadata": {
    "tags": []
   },
   "outputs": [],
   "source": [
    "vectorizer = TfidfVectorizer(ngram_range=(1,2))"
   ]
  },
  {
   "cell_type": "markdown",
   "id": "3a492fe4-822b-46a0-92b4-f69e4391de72",
   "metadata": {},
   "source": [
    "**ngram_range** controls the creation of n-grams from the input text. \n",
    "\n",
    "- ngram_range=(1, 1): This means only unigrams (single words) will be considered.\n",
    "- ngram_range=(1, 2): This means both unigrams and bigrams will be considered.\n",
    "- ngram_range=(2, 2): This means only bigrams (pairs of words) will be considered.\n",
    "\n",
    "ngram_range=(1, 2) for \"Machine learning is fascinating,\"\n",
    "\n",
    "(\"Machine learning\", \"learning is\", \"is fascinating\")"
   ]
  },
  {
   "cell_type": "code",
   "execution_count": 362,
   "id": "427e6976-c56d-4309-95a5-6537d8d073bb",
   "metadata": {
    "tags": []
   },
   "outputs": [],
   "source": [
    "tfidf = vectorizer.fit_transform(df_movies[\"title\"])"
   ]
  },
  {
   "cell_type": "code",
   "execution_count": 363,
   "id": "f4bfa00e-3ec3-488d-a2de-bf8d8b720fa5",
   "metadata": {
    "tags": []
   },
   "outputs": [],
   "source": [
    "from sklearn.metrics.pairwise import cosine_similarity"
   ]
  },
  {
   "cell_type": "markdown",
   "id": "db9c7f17-50e0-451e-9608-9cc00d63bfb0",
   "metadata": {},
   "source": [
    "${Cosine Similarity} = \\frac{\\sum_{i=1}^{n} {A}_{i} {B}_{i}}{{\\sqrt\\sum_{i=1}^{n} {A}_{i}^2} + {\\sqrt\\sum_{i=1}^{n} {B}_{i}^2}} $\n",
    "\n",
    "Cosine Similarity tell us how similar or different things are"
   ]
  },
  {
   "cell_type": "code",
   "execution_count": 364,
   "id": "c7f8efd3-658c-435f-b0d2-09a92ff29d67",
   "metadata": {
    "tags": []
   },
   "outputs": [],
   "source": [
    "import numpy as np"
   ]
  },
  {
   "cell_type": "code",
   "execution_count": 365,
   "id": "f3de6551-7113-44b6-b7c4-69e2716e4ae0",
   "metadata": {
    "tags": []
   },
   "outputs": [],
   "source": [
    "# Search Function\n",
    "def search(title):    \n",
    "    title = clean_title(title)\n",
    "    \n",
    "    # use the vectorizer to turn the search term enter into a set of numbers\n",
    "    query_vec = vectorizer.transform([title])\n",
    "    \n",
    "    # find the simularity between the search terms and titles\n",
    "    # this will compare \"query_vec\", to each of the titles we have in our dataset and it will return how silimiar the title is to each of those titles\n",
    "    # .flatten() function is used to convert this matrix into a 1D array (vector).\n",
    "    similarity = cosine_similarity(query_vec, tfidf).flatten()\n",
    "    \n",
    "    # find the titles that have the greastest similarity to our search term\n",
    "    # this it will find the 5 most similar titles to the search term\n",
    "    #  The -5 argument specifies that you want to find the indices that correspond to the smallest 5 elements.\n",
    "    indices = np.argpartition(similarity, -5)[-5:]\n",
    "    results = df_movies.iloc[indices][::-1]\n",
    "    return results"
   ]
  },
  {
   "cell_type": "markdown",
   "id": "a5868adf-9c90-4d52-873b-7965ac1ebc49",
   "metadata": {},
   "source": [
    "## Build Search Box"
   ]
  },
  {
   "cell_type": "code",
   "execution_count": 366,
   "id": "a4a08d6c-e212-4775-b810-1a5ad3f30a73",
   "metadata": {
    "tags": []
   },
   "outputs": [],
   "source": [
    "import ipywidgets as widgets\n",
    "from IPython.display import display"
   ]
  },
  {
   "cell_type": "code",
   "execution_count": 367,
   "id": "a7af436b-7ce4-45c2-bfb9-91c87432153a",
   "metadata": {
    "tags": []
   },
   "outputs": [],
   "source": [
    "movie_input = widgets.Text(\n",
    "    value=\"\",\n",
    "    description = \"Movie Title:\",\n",
    "    disabled = False\n",
    ")"
   ]
  },
  {
   "cell_type": "markdown",
   "id": "9ae128fb-e992-4849-95cb-684b33642d61",
   "metadata": {
    "tags": []
   },
   "source": [
    "movie_list = widgets.Output()"
   ]
  },
  {
   "cell_type": "code",
   "execution_count": 368,
   "id": "7ed93e5d-ec2d-44f9-8426-2ac17a9ef8ab",
   "metadata": {
    "tags": []
   },
   "outputs": [],
   "source": [
    "def on_type(data):\n",
    "    with movie_list:\n",
    "        movie_list.clear_output()\n",
    "        title = data[\"new\"]\n",
    "        if len(title) > 5:\n",
    "            display(search(title))"
   ]
  },
  {
   "cell_type": "code",
   "execution_count": 369,
   "id": "9ebc17fb-d1f8-4543-836e-6365ce0c3741",
   "metadata": {
    "tags": []
   },
   "outputs": [],
   "source": [
    "movie_input.observe(on_type, names=\"value\")"
   ]
  },
  {
   "cell_type": "code",
   "execution_count": 370,
   "id": "ebe86fc2-1ca0-44f6-b913-5d8552e849d6",
   "metadata": {
    "tags": []
   },
   "outputs": [
    {
     "data": {
      "application/vnd.jupyter.widget-view+json": {
       "model_id": "96b25991da354dbf803b9176e4a2f6e4",
       "version_major": 2,
       "version_minor": 0
      },
      "text/plain": [
       "Text(value='', description='Movie Title:')"
      ]
     },
     "metadata": {},
     "output_type": "display_data"
    },
    {
     "data": {
      "application/vnd.jupyter.widget-view+json": {
       "model_id": "95a773e4210c44da8e028922a7596023",
       "version_major": 2,
       "version_minor": 0
      },
      "text/plain": [
       "Output()"
      ]
     },
     "metadata": {},
     "output_type": "display_data"
    }
   ],
   "source": [
    "display(movie_input, movie_list)"
   ]
  },
  {
   "cell_type": "markdown",
   "id": "67abe344-ec39-4eb8-a9a4-f6a6a3a35855",
   "metadata": {},
   "source": [
    "## Finding users who liked the same movie"
   ]
  },
  {
   "cell_type": "code",
   "execution_count": 371,
   "id": "f5cfaa60-61c8-4e55-b69a-d08d8fa38854",
   "metadata": {
    "tags": []
   },
   "outputs": [],
   "source": [
    "movie_id = 1"
   ]
  },
  {
   "cell_type": "code",
   "execution_count": 372,
   "id": "33b8d143-b093-4347-b49b-d3b7c6bb8feb",
   "metadata": {
    "tags": []
   },
   "outputs": [],
   "source": [
    "# Select people that had like that same movie as me\n",
    "similar_users = df_raking[(df_raking[\"movieId\"] == movie_id) & (df_raking[\"rating\"] >= 4)][\"userId\"].unique()"
   ]
  },
  {
   "cell_type": "markdown",
   "id": "9b5a04d3-4415-490e-9d31-ce259f148a09",
   "metadata": {},
   "source": [
    "**df_raking[(df_raking[\"movieId\"] == movie_id) & (df_raking[\"rating\"] >= 4)]** \\\n",
    "Select rows that corresponde to the same **movie_id** and Select the ones that have a **rating** >= 4 \\\n",
    "This take rows with movieId == movie_id and with the **rating** >= 4\n",
    "\n",
    "**[\"userId\"].unique()** \\\n",
    "This select the unique userID's that had rank the movieId >= 4 \\\n",
    "This it will display an array\n"
   ]
  },
  {
   "cell_type": "code",
   "execution_count": 373,
   "id": "83e197ab-8cde-4520-8406-dd50038ba64f",
   "metadata": {
    "tags": []
   },
   "outputs": [],
   "source": [
    "# Select others movies that the same people had like\n",
    "similar_user_recs = df_raking[(df_raking[\"userId\"].isin(similar_users)) & (df_raking[\"rating\"] >= 4)][\"movieId\"]"
   ]
  },
  {
   "cell_type": "code",
   "execution_count": 374,
   "id": "77d3864e-2ae7-4fbd-b623-862b5a21de29",
   "metadata": {
    "tags": []
   },
   "outputs": [
    {
     "data": {
      "text/plain": [
       "pandas.core.series.Series"
      ]
     },
     "execution_count": 374,
     "metadata": {},
     "output_type": "execute_result"
    }
   ],
   "source": [
    "type(df_raking[\"userId\"]) "
   ]
  },
  {
   "cell_type": "markdown",
   "id": "5619490a-11a9-4670-a2ee-800e726b65ff",
   "metadata": {
    "tags": []
   },
   "source": [
    "Since we trying to compare to arrays we need to use **.isin()** \\\n",
    "The **.isin()** method is used to check if the values in one array (or Series) are present in another array (or Series). \\\n",
    "It's commonly used for filtering and selecting data in DataFrames."
   ]
  },
  {
   "cell_type": "code",
   "execution_count": 375,
   "id": "647b9598-a772-4e0b-a7df-0efd46a643b0",
   "metadata": {
    "tags": []
   },
   "outputs": [
    {
     "data": {
      "text/plain": [
       "254              1\n",
       "255             29\n",
       "256             32\n",
       "257             50\n",
       "258            111\n",
       "             ...  \n",
       "24999332    166643\n",
       "24999342    171763\n",
       "24999348    177593\n",
       "24999351    177765\n",
       "24999378    198609\n",
       "Name: movieId, Length: 5101989, dtype: int64"
      ]
     },
     "execution_count": 375,
     "metadata": {},
     "output_type": "execute_result"
    }
   ],
   "source": [
    "similar_user_recs"
   ]
  },
  {
   "cell_type": "markdown",
   "id": "00f9848a-2aec-4ea5-b71e-47cd99f533a4",
   "metadata": {},
   "source": [
    "The resulting variable **similar_user_recs** holds the \"movieId\" values for movies that were highly rated (rating >= 4) by users in the **similar_users** list."
   ]
  },
  {
   "cell_type": "markdown",
   "id": "8dbe9c82-f2f5-4f56-9a98-f2755d665415",
   "metadata": {},
   "source": [
    "## Find only the movies that greater than 10% of the users who are similar to us liked"
   ]
  },
  {
   "cell_type": "code",
   "execution_count": 376,
   "id": "6840846b-6d7f-4d44-af4a-069fdacfb645",
   "metadata": {
    "tags": []
   },
   "outputs": [],
   "source": [
    "similar_user_recs = similar_user_recs.value_counts() / len(similar_users)"
   ]
  },
  {
   "cell_type": "markdown",
   "id": "33ba82f0-f702-4f4c-99e9-736f21b4f851",
   "metadata": {},
   "source": [
    "The resulting variable **similar_user_recs** holds the proportional frequencies of each \"movieId\" among the \\\n",
    "highly-rated movies by similar users."
   ]
  },
  {
   "cell_type": "code",
   "execution_count": 377,
   "id": "d3ce4b0a-1b3a-4c10-9dc7-cc76ec836da2",
   "metadata": {
    "tags": []
   },
   "outputs": [
    {
     "data": {
      "text/plain": [
       "1         1.000000\n",
       "318       0.549604\n",
       "260       0.531518\n",
       "356       0.517224\n",
       "296       0.495744\n",
       "            ...   \n",
       "153913    0.000027\n",
       "153917    0.000027\n",
       "6501      0.000027\n",
       "41704     0.000027\n",
       "198609    0.000027\n",
       "Name: movieId, Length: 30595, dtype: float64"
      ]
     },
     "execution_count": 377,
     "metadata": {},
     "output_type": "execute_result"
    }
   ],
   "source": [
    "similar_user_recs"
   ]
  },
  {
   "cell_type": "code",
   "execution_count": 378,
   "id": "fbf4a774-2ba3-4c6a-9f49-1eb2e535b69b",
   "metadata": {
    "tags": []
   },
   "outputs": [],
   "source": [
    "# Select the movies that are greater than 10%\n",
    "similar_user_recs = similar_user_recs[similar_user_recs > .1]"
   ]
  },
  {
   "cell_type": "code",
   "execution_count": 379,
   "id": "8276ad37-9e2f-4488-9c00-16e65d37a1ef",
   "metadata": {
    "tags": []
   },
   "outputs": [
    {
     "data": {
      "text/plain": [
       "1       1.000000\n",
       "318     0.549604\n",
       "260     0.531518\n",
       "356     0.517224\n",
       "296     0.495744\n",
       "          ...   \n",
       "235     0.101249\n",
       "1242    0.100931\n",
       "1907    0.100772\n",
       "3527    0.100613\n",
       "2761    0.100135\n",
       "Name: movieId, Length: 273, dtype: float64"
      ]
     },
     "execution_count": 379,
     "metadata": {},
     "output_type": "execute_result"
    }
   ],
   "source": [
    "similar_user_recs"
   ]
  },
  {
   "cell_type": "markdown",
   "id": "9a823cef-fc65-4cc2-a823-5084cd6893de",
   "metadata": {},
   "source": [
    "## Finding how much all users like movies"
   ]
  },
  {
   "cell_type": "code",
   "execution_count": 380,
   "id": "800a9e7d-20df-4417-97ea-a8db3235039c",
   "metadata": {},
   "outputs": [],
   "source": [
    "# Find how much all of the users in the dataset like these movies\n",
    "all_users = df_raking[(df_raking[\"movieId\"].isin(similar_user_recs.index)) & (df_raking[\"rating\"] >= 4)]"
   ]
  },
  {
   "cell_type": "code",
   "execution_count": 381,
   "id": "4b354f32-a1af-4c06-9d1a-e11aa2eb6103",
   "metadata": {
    "tags": []
   },
   "outputs": [],
   "source": [
    "# Find what % of all users recommend each of these movies\n",
    "all_users_rec = all_users[\"movieId\"].value_counts() / len(all_users[\"userId\"].unique())"
   ]
  },
  {
   "cell_type": "markdown",
   "id": "be58cecf-c4ef-45b1-98df-5caba9f819c5",
   "metadata": {},
   "source": [
    "## Creating a recomendation score"
   ]
  },
  {
   "cell_type": "code",
   "execution_count": 382,
   "id": "82ba6ab0-4a94-4ec2-97e2-137365d2bf35",
   "metadata": {
    "tags": []
   },
   "outputs": [],
   "source": [
    "# Concat people that like the same as us and all users \n",
    "rec_precentage = pd.concat([similar_user_recs, all_users_rec], axis=1)\n",
    "rec_precentage.columns = [\"similar\", \"all\"]"
   ]
  },
  {
   "cell_type": "code",
   "execution_count": 383,
   "id": "10a39477-e70d-4575-9155-5a449a354124",
   "metadata": {
    "tags": []
   },
   "outputs": [
    {
     "data": {
      "text/html": [
       "<div>\n",
       "<style scoped>\n",
       "    .dataframe tbody tr th:only-of-type {\n",
       "        vertical-align: middle;\n",
       "    }\n",
       "\n",
       "    .dataframe tbody tr th {\n",
       "        vertical-align: top;\n",
       "    }\n",
       "\n",
       "    .dataframe thead th {\n",
       "        text-align: right;\n",
       "    }\n",
       "</style>\n",
       "<table border=\"1\" class=\"dataframe\">\n",
       "  <thead>\n",
       "    <tr style=\"text-align: right;\">\n",
       "      <th></th>\n",
       "      <th>similar</th>\n",
       "      <th>all</th>\n",
       "    </tr>\n",
       "  </thead>\n",
       "  <tbody>\n",
       "    <tr>\n",
       "      <th>1</th>\n",
       "      <td>1.000000</td>\n",
       "      <td>0.235415</td>\n",
       "    </tr>\n",
       "    <tr>\n",
       "      <th>318</th>\n",
       "      <td>0.549604</td>\n",
       "      <td>0.440215</td>\n",
       "    </tr>\n",
       "    <tr>\n",
       "      <th>260</th>\n",
       "      <td>0.531518</td>\n",
       "      <td>0.325251</td>\n",
       "    </tr>\n",
       "    <tr>\n",
       "      <th>356</th>\n",
       "      <td>0.517224</td>\n",
       "      <td>0.367553</td>\n",
       "    </tr>\n",
       "    <tr>\n",
       "      <th>296</th>\n",
       "      <td>0.495744</td>\n",
       "      <td>0.389659</td>\n",
       "    </tr>\n",
       "    <tr>\n",
       "      <th>...</th>\n",
       "      <td>...</td>\n",
       "      <td>...</td>\n",
       "    </tr>\n",
       "    <tr>\n",
       "      <th>235</th>\n",
       "      <td>0.101249</td>\n",
       "      <td>0.055281</td>\n",
       "    </tr>\n",
       "    <tr>\n",
       "      <th>1242</th>\n",
       "      <td>0.100931</td>\n",
       "      <td>0.050805</td>\n",
       "    </tr>\n",
       "    <tr>\n",
       "      <th>1907</th>\n",
       "      <td>0.100772</td>\n",
       "      <td>0.039805</td>\n",
       "    </tr>\n",
       "    <tr>\n",
       "      <th>3527</th>\n",
       "      <td>0.100613</td>\n",
       "      <td>0.056879</td>\n",
       "    </tr>\n",
       "    <tr>\n",
       "      <th>2761</th>\n",
       "      <td>0.100135</td>\n",
       "      <td>0.039855</td>\n",
       "    </tr>\n",
       "  </tbody>\n",
       "</table>\n",
       "<p>273 rows × 2 columns</p>\n",
       "</div>"
      ],
      "text/plain": [
       "       similar       all\n",
       "1     1.000000  0.235415\n",
       "318   0.549604  0.440215\n",
       "260   0.531518  0.325251\n",
       "356   0.517224  0.367553\n",
       "296   0.495744  0.389659\n",
       "...        ...       ...\n",
       "235   0.101249  0.055281\n",
       "1242  0.100931  0.050805\n",
       "1907  0.100772  0.039805\n",
       "3527  0.100613  0.056879\n",
       "2761  0.100135  0.039855\n",
       "\n",
       "[273 rows x 2 columns]"
      ]
     },
     "execution_count": 383,
     "metadata": {},
     "output_type": "execute_result"
    }
   ],
   "source": [
    "rec_precentage"
   ]
  },
  {
   "cell_type": "code",
   "execution_count": 384,
   "id": "06783938-ed97-4237-ac90-46d4ad4d038b",
   "metadata": {
    "tags": []
   },
   "outputs": [],
   "source": [
    "# Score column\n",
    "rec_precentage[\"score\"] = (rec_precentage[\"similar\"] / rec_precentage[\"all\"]) "
   ]
  },
  {
   "cell_type": "code",
   "execution_count": 385,
   "id": "0d3b3eed-b9e5-47f2-9b52-146cd2dcef5b",
   "metadata": {
    "tags": []
   },
   "outputs": [
    {
     "data": {
      "text/html": [
       "<div>\n",
       "<style scoped>\n",
       "    .dataframe tbody tr th:only-of-type {\n",
       "        vertical-align: middle;\n",
       "    }\n",
       "\n",
       "    .dataframe tbody tr th {\n",
       "        vertical-align: top;\n",
       "    }\n",
       "\n",
       "    .dataframe thead th {\n",
       "        text-align: right;\n",
       "    }\n",
       "</style>\n",
       "<table border=\"1\" class=\"dataframe\">\n",
       "  <thead>\n",
       "    <tr style=\"text-align: right;\">\n",
       "      <th></th>\n",
       "      <th>similar</th>\n",
       "      <th>all</th>\n",
       "      <th>score</th>\n",
       "    </tr>\n",
       "  </thead>\n",
       "  <tbody>\n",
       "    <tr>\n",
       "      <th>1</th>\n",
       "      <td>1.000000</td>\n",
       "      <td>0.235415</td>\n",
       "      <td>4.247819</td>\n",
       "    </tr>\n",
       "    <tr>\n",
       "      <th>3114</th>\n",
       "      <td>0.328914</td>\n",
       "      <td>0.102241</td>\n",
       "      <td>3.217054</td>\n",
       "    </tr>\n",
       "    <tr>\n",
       "      <th>78499</th>\n",
       "      <td>0.161924</td>\n",
       "      <td>0.057710</td>\n",
       "      <td>2.805840</td>\n",
       "    </tr>\n",
       "    <tr>\n",
       "      <th>2355</th>\n",
       "      <td>0.191095</td>\n",
       "      <td>0.068978</td>\n",
       "      <td>2.770367</td>\n",
       "    </tr>\n",
       "    <tr>\n",
       "      <th>2081</th>\n",
       "      <td>0.120714</td>\n",
       "      <td>0.047128</td>\n",
       "      <td>2.561408</td>\n",
       "    </tr>\n",
       "    <tr>\n",
       "      <th>...</th>\n",
       "      <td>...</td>\n",
       "      <td>...</td>\n",
       "      <td>...</td>\n",
       "    </tr>\n",
       "    <tr>\n",
       "      <th>99114</th>\n",
       "      <td>0.112732</td>\n",
       "      <td>0.091209</td>\n",
       "      <td>1.235967</td>\n",
       "    </tr>\n",
       "    <tr>\n",
       "      <th>2959</th>\n",
       "      <td>0.351826</td>\n",
       "      <td>0.292519</td>\n",
       "      <td>1.202745</td>\n",
       "    </tr>\n",
       "    <tr>\n",
       "      <th>6016</th>\n",
       "      <td>0.118380</td>\n",
       "      <td>0.099007</td>\n",
       "      <td>1.195678</td>\n",
       "    </tr>\n",
       "    <tr>\n",
       "      <th>109487</th>\n",
       "      <td>0.117426</td>\n",
       "      <td>0.102603</td>\n",
       "      <td>1.144469</td>\n",
       "    </tr>\n",
       "    <tr>\n",
       "      <th>79132</th>\n",
       "      <td>0.209870</td>\n",
       "      <td>0.184916</td>\n",
       "      <td>1.134951</td>\n",
       "    </tr>\n",
       "  </tbody>\n",
       "</table>\n",
       "<p>273 rows × 3 columns</p>\n",
       "</div>"
      ],
      "text/plain": [
       "         similar       all     score\n",
       "1       1.000000  0.235415  4.247819\n",
       "3114    0.328914  0.102241  3.217054\n",
       "78499   0.161924  0.057710  2.805840\n",
       "2355    0.191095  0.068978  2.770367\n",
       "2081    0.120714  0.047128  2.561408\n",
       "...          ...       ...       ...\n",
       "99114   0.112732  0.091209  1.235967\n",
       "2959    0.351826  0.292519  1.202745\n",
       "6016    0.118380  0.099007  1.195678\n",
       "109487  0.117426  0.102603  1.144469\n",
       "79132   0.209870  0.184916  1.134951\n",
       "\n",
       "[273 rows x 3 columns]"
      ]
     },
     "execution_count": 385,
     "metadata": {},
     "output_type": "execute_result"
    }
   ],
   "source": [
    "# Sort the scores\n",
    "rec_precentage.sort_values(\"score\", ascending=False)"
   ]
  },
  {
   "cell_type": "code",
   "execution_count": 386,
   "id": "ba58aecf-106e-4646-85ae-f86662799d1d",
   "metadata": {
    "tags": []
   },
   "outputs": [
    {
     "data": {
      "text/html": [
       "<div>\n",
       "<style scoped>\n",
       "    .dataframe tbody tr th:only-of-type {\n",
       "        vertical-align: middle;\n",
       "    }\n",
       "\n",
       "    .dataframe tbody tr th {\n",
       "        vertical-align: top;\n",
       "    }\n",
       "\n",
       "    .dataframe thead th {\n",
       "        text-align: right;\n",
       "    }\n",
       "</style>\n",
       "<table border=\"1\" class=\"dataframe\">\n",
       "  <thead>\n",
       "    <tr style=\"text-align: right;\">\n",
       "      <th></th>\n",
       "      <th>similar</th>\n",
       "      <th>all</th>\n",
       "      <th>score</th>\n",
       "      <th>movieId</th>\n",
       "      <th>title</th>\n",
       "      <th>genres</th>\n",
       "      <th>year</th>\n",
       "    </tr>\n",
       "  </thead>\n",
       "  <tbody>\n",
       "    <tr>\n",
       "      <th>0</th>\n",
       "      <td>1.000000</td>\n",
       "      <td>0.235415</td>\n",
       "      <td>4.247819</td>\n",
       "      <td>1</td>\n",
       "      <td>Toy Story</td>\n",
       "      <td>Adventure|Animation|Children|Comedy|Fantasy</td>\n",
       "      <td>1995</td>\n",
       "    </tr>\n",
       "    <tr>\n",
       "      <th>314</th>\n",
       "      <td>0.549604</td>\n",
       "      <td>0.440215</td>\n",
       "      <td>1.248490</td>\n",
       "      <td>318</td>\n",
       "      <td>Shawshank Redemption The</td>\n",
       "      <td>Crime|Drama</td>\n",
       "      <td>1994</td>\n",
       "    </tr>\n",
       "    <tr>\n",
       "      <th>257</th>\n",
       "      <td>0.531518</td>\n",
       "      <td>0.325251</td>\n",
       "      <td>1.634178</td>\n",
       "      <td>260</td>\n",
       "      <td>Star Wars Episode IV  A New Hope</td>\n",
       "      <td>Action|Adventure|Sci-Fi</td>\n",
       "      <td>1977</td>\n",
       "    </tr>\n",
       "    <tr>\n",
       "      <th>351</th>\n",
       "      <td>0.517224</td>\n",
       "      <td>0.367553</td>\n",
       "      <td>1.407209</td>\n",
       "      <td>356</td>\n",
       "      <td>Forrest Gump</td>\n",
       "      <td>Comedy|Drama|Romance|War</td>\n",
       "      <td>1994</td>\n",
       "    </tr>\n",
       "    <tr>\n",
       "      <th>292</th>\n",
       "      <td>0.495744</td>\n",
       "      <td>0.389659</td>\n",
       "      <td>1.272250</td>\n",
       "      <td>296</td>\n",
       "      <td>Pulp Fiction</td>\n",
       "      <td>Comedy|Crime|Drama|Thriller</td>\n",
       "      <td>1994</td>\n",
       "    </tr>\n",
       "    <tr>\n",
       "      <th>585</th>\n",
       "      <td>0.468509</td>\n",
       "      <td>0.361897</td>\n",
       "      <td>1.294592</td>\n",
       "      <td>593</td>\n",
       "      <td>Silence of the Lambs The</td>\n",
       "      <td>Crime|Horror|Thriller</td>\n",
       "      <td>1991</td>\n",
       "    </tr>\n",
       "    <tr>\n",
       "      <th>2480</th>\n",
       "      <td>0.467793</td>\n",
       "      <td>0.347994</td>\n",
       "      <td>1.344256</td>\n",
       "      <td>2571</td>\n",
       "      <td>Matrix The</td>\n",
       "      <td>Action|Sci-Fi|Thriller</td>\n",
       "      <td>1999</td>\n",
       "    </tr>\n",
       "    <tr>\n",
       "      <th>1166</th>\n",
       "      <td>0.446339</td>\n",
       "      <td>0.276225</td>\n",
       "      <td>1.615853</td>\n",
       "      <td>1196</td>\n",
       "      <td>Star Wars Episode V  The Empire Strikes Back</td>\n",
       "      <td>Action|Adventure|Sci-Fi</td>\n",
       "      <td>1980</td>\n",
       "    </tr>\n",
       "    <tr>\n",
       "      <th>1168</th>\n",
       "      <td>0.428545</td>\n",
       "      <td>0.259325</td>\n",
       "      <td>1.652537</td>\n",
       "      <td>1198</td>\n",
       "      <td>Raiders of the Lost Ark Indiana Jones and the ...</td>\n",
       "      <td>Action|Adventure</td>\n",
       "      <td>1981</td>\n",
       "    </tr>\n",
       "    <tr>\n",
       "      <th>1179</th>\n",
       "      <td>0.423798</td>\n",
       "      <td>0.243456</td>\n",
       "      <td>1.740759</td>\n",
       "      <td>1210</td>\n",
       "      <td>Star Wars Episode VI  Return of the Jedi</td>\n",
       "      <td>Action|Adventure|Sci-Fi</td>\n",
       "      <td>1983</td>\n",
       "    </tr>\n",
       "  </tbody>\n",
       "</table>\n",
       "</div>"
      ],
      "text/plain": [
       "       similar       all     score  movieId  \\\n",
       "0     1.000000  0.235415  4.247819        1   \n",
       "314   0.549604  0.440215  1.248490      318   \n",
       "257   0.531518  0.325251  1.634178      260   \n",
       "351   0.517224  0.367553  1.407209      356   \n",
       "292   0.495744  0.389659  1.272250      296   \n",
       "585   0.468509  0.361897  1.294592      593   \n",
       "2480  0.467793  0.347994  1.344256     2571   \n",
       "1166  0.446339  0.276225  1.615853     1196   \n",
       "1168  0.428545  0.259325  1.652537     1198   \n",
       "1179  0.423798  0.243456  1.740759     1210   \n",
       "\n",
       "                                                  title  \\\n",
       "0                                             Toy Story   \n",
       "314                            Shawshank Redemption The   \n",
       "257                    Star Wars Episode IV  A New Hope   \n",
       "351                                        Forrest Gump   \n",
       "292                                        Pulp Fiction   \n",
       "585                            Silence of the Lambs The   \n",
       "2480                                         Matrix The   \n",
       "1166       Star Wars Episode V  The Empire Strikes Back   \n",
       "1168  Raiders of the Lost Ark Indiana Jones and the ...   \n",
       "1179           Star Wars Episode VI  Return of the Jedi   \n",
       "\n",
       "                                           genres  year  \n",
       "0     Adventure|Animation|Children|Comedy|Fantasy  1995  \n",
       "314                                   Crime|Drama  1994  \n",
       "257                       Action|Adventure|Sci-Fi  1977  \n",
       "351                      Comedy|Drama|Romance|War  1994  \n",
       "292                   Comedy|Crime|Drama|Thriller  1994  \n",
       "585                         Crime|Horror|Thriller  1991  \n",
       "2480                       Action|Sci-Fi|Thriller  1999  \n",
       "1166                      Action|Adventure|Sci-Fi  1980  \n",
       "1168                             Action|Adventure  1981  \n",
       "1179                      Action|Adventure|Sci-Fi  1983  "
      ]
     },
     "execution_count": 386,
     "metadata": {},
     "output_type": "execute_result"
    }
   ],
   "source": [
    "# take our top 10 recomendations and merge with the movies data\n",
    "rec_precentage.iloc[:10].merge(df_movies, left_index=True, right_on=\"movieId\")"
   ]
  },
  {
   "cell_type": "markdown",
   "id": "5933e01a-0479-479e-bf74-b66c0b62bc35",
   "metadata": {},
   "source": [
    "## Build recomendation function"
   ]
  },
  {
   "cell_type": "code",
   "execution_count": 398,
   "id": "797a41c4-3039-46bc-b434-3dea0a048a4d",
   "metadata": {
    "tags": []
   },
   "outputs": [],
   "source": [
    "def recomendation(movie_id):\n",
    "    # Select people that had like that same movie as me\n",
    "    similar_users = df_raking[(df_raking[\"movieId\"] == movie_id) & (df_raking[\"rating\"] >= 4)][\"userId\"].unique()\n",
    "    # Select others movies that the same people had like\n",
    "    similar_user_recs = df_raking[(df_raking[\"userId\"].isin(similar_users)) & (df_raking[\"rating\"] >= 4)][\"movieId\"]\n",
    "    similar_user_recs = similar_user_recs.value_counts() / len(similar_users)\n",
    "    similar_user_recs = similar_user_recs[similar_user_recs > .10]\n",
    "    \n",
    "    # Find how much all of the users in the dataset like these movies\n",
    "    all_users = df_raking[(df_raking[\"movieId\"].isin(similar_user_recs.index)) & (df_raking[\"rating\"] >= 4)]\n",
    "    # Find what % of all users recommend each of these movies\n",
    "    all_users_rec = all_users[\"movieId\"].value_counts() / len(all_users[\"userId\"].unique())\n",
    "    \n",
    "    # Concat people that like the same as us and all users \n",
    "    rec_precentage = pd.concat([similar_user_recs, all_users_rec], axis=1)\n",
    "    rec_precentage.columns = [\"similar\", \"all\"]\n",
    "    # Score column\n",
    "    rec_precentage[\"score\"] = (rec_precentage[\"similar\"] / rec_precentage[\"all\"]) \n",
    "    # Sort the scores\n",
    "    rec_precentage.sort_values(\"score\", ascending=False)\n",
    "    # take our top 10 recomendations and merge with the movies data\n",
    "    return rec_precentage.iloc[:10].merge(df_movies, left_index=True, right_on=\"movieId\")[[\"score\", \"title\", \"genres\"]]\n",
    "    "
   ]
  },
  {
   "cell_type": "code",
   "execution_count": 399,
   "id": "6631ab89-3c57-419d-8dc3-0a893bf629d1",
   "metadata": {
    "tags": []
   },
   "outputs": [],
   "source": [
    "movie_input_name = widgets.Text(\n",
    "    value=\"\",\n",
    "    description = \"Movie Title:\",\n",
    "    disabled = False\n",
    ")"
   ]
  },
  {
   "cell_type": "code",
   "execution_count": 400,
   "id": "3e72c193-15d6-4050-8153-fb9661d2c108",
   "metadata": {
    "tags": []
   },
   "outputs": [],
   "source": [
    "recomendation_list = widgets.Output()"
   ]
  },
  {
   "cell_type": "code",
   "execution_count": 401,
   "id": "2bbfbc76-4594-40d6-9dfd-9b62ca4fb8d4",
   "metadata": {
    "tags": []
   },
   "outputs": [],
   "source": [
    "def on_type(data):\n",
    "    with recomendation_list:\n",
    "        recomendation_list.clear_output()\n",
    "        title = data[\"new\"]\n",
    "        if len(title) > 3:\n",
    "            results = search(title)\n",
    "            movie_id = results.iloc[0][\"movieId\"]\n",
    "            display(recomendation(movie_id))"
   ]
  },
  {
   "cell_type": "code",
   "execution_count": 402,
   "id": "a151586d-4576-45fe-9865-336b3232d153",
   "metadata": {
    "tags": []
   },
   "outputs": [],
   "source": [
    "movie_input_name.observe(on_type, names=\"value\")"
   ]
  },
  {
   "cell_type": "code",
   "execution_count": 403,
   "id": "e41f95c1-923b-48cf-a1e0-54f25dd59642",
   "metadata": {
    "tags": []
   },
   "outputs": [
    {
     "data": {
      "application/vnd.jupyter.widget-view+json": {
       "model_id": "aed0f8567156475cb2f9073eb94366a1",
       "version_major": 2,
       "version_minor": 0
      },
      "text/plain": [
       "Text(value='', description='Movie Title:')"
      ]
     },
     "metadata": {},
     "output_type": "display_data"
    },
    {
     "data": {
      "application/vnd.jupyter.widget-view+json": {
       "model_id": "d99d00496f4446658f5d93032ad12c0f",
       "version_major": 2,
       "version_minor": 0
      },
      "text/plain": [
       "Output()"
      ]
     },
     "metadata": {},
     "output_type": "display_data"
    }
   ],
   "source": [
    "display(movie_input_name, recomendation_list)"
   ]
  },
  {
   "cell_type": "code",
   "execution_count": null,
   "id": "ce8fcd5a-0385-4c25-91b2-2a5b2d023011",
   "metadata": {},
   "outputs": [],
   "source": []
  }
 ],
 "metadata": {
  "kernelspec": {
   "display_name": "Python 3 (ipykernel)",
   "language": "python",
   "name": "python3"
  },
  "language_info": {
   "codemirror_mode": {
    "name": "ipython",
    "version": 3
   },
   "file_extension": ".py",
   "mimetype": "text/x-python",
   "name": "python",
   "nbconvert_exporter": "python",
   "pygments_lexer": "ipython3",
   "version": "3.11.3"
  }
 },
 "nbformat": 4,
 "nbformat_minor": 5
}
